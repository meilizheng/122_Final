{
  "nbformat": 4,
  "nbformat_minor": 0,
  "metadata": {
    "colab": {
      "provenance": [],
      "authorship_tag": "ABX9TyOyl2ziMDi4sGoNQCdE4SAt",
      "include_colab_link": true
    },
    "kernelspec": {
      "name": "python3",
      "display_name": "Python 3"
    },
    "language_info": {
      "name": "python"
    }
  },
  "cells": [
    {
      "cell_type": "markdown",
      "metadata": {
        "id": "view-in-github",
        "colab_type": "text"
      },
      "source": [
        "<a href=\"https://colab.research.google.com/github/meilizheng/122_Final/blob/main/Untitled3.ipynb\" target=\"_parent\"><img src=\"https://colab.research.google.com/assets/colab-badge.svg\" alt=\"Open In Colab\"/></a>"
      ]
    },
    {
      "cell_type": "code",
      "execution_count": 2,
      "metadata": {
        "colab": {
          "base_uri": "https://localhost:8080/"
        },
        "id": "THLp7v-RPlyb",
        "outputId": "530392c2-0764-4f0a-d6a9-1f7d655f1bab"
      },
      "outputs": [
        {
          "output_type": "stream",
          "name": "stdout",
          "text": [
            "Student Details: {'name': 'Meili Zheng', 'age': 35, 'major': 'Computer Science', 'GPA': 3.8, 'email': 'zhengmeili@example.com'}\n",
            "Computer Science\n",
            "Key not found\n"
          ]
        }
      ],
      "source": [
        "# Creating a dictionary with student details\n",
        "student = {\n",
        "    \"name\": \"Meili Zheng\",\n",
        "    \"age\": 35,\n",
        "    \"major\": \"Computer Science\",\n",
        "    \"GPA\": 3.8,\n",
        "    \"email\": \"zhengmeili@example.com\"\n",
        "}\n",
        "\n",
        "# Printing the dictionary\n",
        "print(\"Student Details:\", student)\n",
        "\n",
        "# Function to get value from dictionary safely\n",
        "def get_value(dictionary, key):\n",
        "    return dictionary.get(key, \"Key not found\")\n",
        "\n",
        "# Testing the function\n",
        "print(get_value(student, \"major\"))   # Expected output: Computer Science\n",
        "print(get_value(student, \"address\")) # Expected output: Key not found"
      ]
    }
  ]
}