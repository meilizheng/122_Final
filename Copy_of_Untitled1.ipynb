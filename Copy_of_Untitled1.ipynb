{
  "nbformat": 4,
  "nbformat_minor": 0,
  "metadata": {
    "colab": {
      "provenance": [],
      "authorship_tag": "ABX9TyPurMblxKXeEoFpha3CVw8h",
      "include_colab_link": true
    },
    "kernelspec": {
      "name": "python3",
      "display_name": "Python 3"
    },
    "language_info": {
      "name": "python"
    }
  },
  "cells": [
    {
      "cell_type": "markdown",
      "metadata": {
        "id": "view-in-github",
        "colab_type": "text"
      },
      "source": [
        "<a href=\"https://colab.research.google.com/github/meilizheng/122_Final/blob/main/Copy_of_Untitled1.ipynb\" target=\"_parent\"><img src=\"https://colab.research.google.com/assets/colab-badge.svg\" alt=\"Open In Colab\"/></a>"
      ]
    },
    {
      "cell_type": "code",
      "execution_count": null,
      "metadata": {
        "colab": {
          "base_uri": "https://localhost:8080/"
        },
        "id": "CC3J9V92bw45",
        "outputId": "0928cbbc-4485-4b94-a095-6252a353c731"
      },
      "outputs": [
        {
          "output_type": "stream",
          "name": "stdout",
          "text": [
            "The expression is balanced.\n"
          ]
        }
      ],
      "source": [
        "def is_balanced(items):\n",
        "    stack = []\n",
        "    brackets = {')': '(', ']': '[', '}': '{'}\n",
        "\n",
        "    for char in items:\n",
        "        if char in brackets.values():  # Opening brackets\n",
        "            stack.append(char)\n",
        "        elif char in brackets.keys():  # Closing brackets\n",
        "            if not stack or stack.pop() != brackets[char]:\n",
        "                return False\n",
        "\n",
        "    return len(stack) == 0\n",
        "\n",
        "# Test case\n",
        "items = \"{[(a+b) + (c+d)]}\"\n",
        "if is_balanced(items):\n",
        "    print(\"The expression is balanced.\")\n",
        "else:\n",
        "    print(\"The expression is not balanced.\")"
      ]
    }
  ]
}